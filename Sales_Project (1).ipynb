{
 "cells": [
  {
   "cell_type": "markdown",
   "id": "76cd278a",
   "metadata": {},
   "source": [
    "# 🛠️ Project: \"Retail Sales ETL Pipeline\"\n",
    "🎯 Goal:\n",
    "Create a pipeline that extracts, cleans, and loads retail sales data into a SQL database for analysis."
   ]
  },
  {
   "cell_type": "markdown",
   "id": "fd722cbe",
   "metadata": {},
   "source": [
    "## 1.Project Overview"
   ]
  },
  {
   "cell_type": "markdown",
   "id": "d871ca92",
   "metadata": {},
   "source": [
    "Problem Statement:\n",
    "A retail shop provides you with daily sales CSV files. You need to automate:\n",
    "\n",
    "Loading the data\n",
    "\n",
    "Cleaning it\n",
    "\n",
    "Storing it in a database\n",
    "\n",
    "Running simple analysis queries"
   ]
  },
  {
   "cell_type": "markdown",
   "id": "e0b4ba72",
   "metadata": {},
   "source": [
    "## 2. Tech Stack"
   ]
  },
  {
   "cell_type": "markdown",
   "id": "984a3bd5",
   "metadata": {},
   "source": [
    "Python – For scripting\n",
    "\n",
    "Pandas – For data cleaning\n",
    "\n",
    "SQLite/PostgreSQL – As your data warehouse\n",
    "\n",
    "Cron or Airflow (optional) – For scheduling"
   ]
  },
  {
   "cell_type": "markdown",
   "id": "98a7bf5b",
   "metadata": {},
   "source": [
    "## 3. Input Files"
   ]
  },
  {
   "cell_type": "markdown",
   "id": "7d81131a",
   "metadata": {},
   "source": [
    "Sample CSV: daily_sales.csv"
   ]
  },
  {
   "cell_type": "markdown",
   "id": "1746f45b",
   "metadata": {},
   "source": [
    "Dataset link:\n",
    "\n",
    "https://drive.google.com/file/d/1CvWoDIVlBgi1GW5aqEknbR54-EX7pKoS/view?usp=sharing"
   ]
  },
  {
   "cell_type": "code",
   "execution_count": 5,
   "id": "f6b81310",
   "metadata": {},
   "outputs": [],
   "source": [
    "import warnings\n",
    "warnings.filterwarnings(\"ignore\")  #To ignore warnings in python."
   ]
  },
  {
   "cell_type": "code",
   "execution_count": 6,
   "id": "ce8de64a",
   "metadata": {},
   "outputs": [],
   "source": [
    "import pandas as pd\n",
    "import sqlite3\n",
    "\n",
    "#Import libraries."
   ]
  },
  {
   "cell_type": "markdown",
   "id": "5272bad0",
   "metadata": {},
   "source": [
    "# 1.EXTRACT :"
   ]
  },
  {
   "cell_type": "code",
   "execution_count": 7,
   "id": "49884c12",
   "metadata": {},
   "outputs": [
    {
     "name": "stdout",
     "output_type": "stream",
     "text": [
      "         date  product_id product_name   category  price  quantity_sold\n",
      "0  2023-01-01         101        Apple      Fruit   0.50             95\n",
      "1  2023-01-01         102       Banana      Fruit   0.30            161\n",
      "2  2023-01-01         103       Orange      Fruit   0.40            117\n",
      "3  2023-01-01         104       Tomato  Vegetable   0.20            129\n",
      "4  2023-01-01         105       Potato  Vegetable   0.25            116\n"
     ]
    }
   ],
   "source": [
    "df = pd.read_csv(\"daily_sales.csv\")\n",
    "print(df.head())"
   ]
  },
  {
   "cell_type": "code",
   "execution_count": 8,
   "id": "5c15d8b6",
   "metadata": {},
   "outputs": [
    {
     "data": {
      "text/html": [
       "<div>\n",
       "<style scoped>\n",
       "    .dataframe tbody tr th:only-of-type {\n",
       "        vertical-align: middle;\n",
       "    }\n",
       "\n",
       "    .dataframe tbody tr th {\n",
       "        vertical-align: top;\n",
       "    }\n",
       "\n",
       "    .dataframe thead th {\n",
       "        text-align: right;\n",
       "    }\n",
       "</style>\n",
       "<table border=\"1\" class=\"dataframe\">\n",
       "  <thead>\n",
       "    <tr style=\"text-align: right;\">\n",
       "      <th></th>\n",
       "      <th>date</th>\n",
       "      <th>product_id</th>\n",
       "      <th>product_name</th>\n",
       "      <th>category</th>\n",
       "      <th>price</th>\n",
       "      <th>quantity_sold</th>\n",
       "    </tr>\n",
       "  </thead>\n",
       "  <tbody>\n",
       "    <tr>\n",
       "      <th>0</th>\n",
       "      <td>2023-01-01</td>\n",
       "      <td>101</td>\n",
       "      <td>Apple</td>\n",
       "      <td>Fruit</td>\n",
       "      <td>0.50</td>\n",
       "      <td>95</td>\n",
       "    </tr>\n",
       "    <tr>\n",
       "      <th>1</th>\n",
       "      <td>2023-01-01</td>\n",
       "      <td>102</td>\n",
       "      <td>Banana</td>\n",
       "      <td>Fruit</td>\n",
       "      <td>0.30</td>\n",
       "      <td>161</td>\n",
       "    </tr>\n",
       "    <tr>\n",
       "      <th>2</th>\n",
       "      <td>2023-01-01</td>\n",
       "      <td>103</td>\n",
       "      <td>Orange</td>\n",
       "      <td>Fruit</td>\n",
       "      <td>0.40</td>\n",
       "      <td>117</td>\n",
       "    </tr>\n",
       "    <tr>\n",
       "      <th>3</th>\n",
       "      <td>2023-01-01</td>\n",
       "      <td>104</td>\n",
       "      <td>Tomato</td>\n",
       "      <td>Vegetable</td>\n",
       "      <td>0.20</td>\n",
       "      <td>129</td>\n",
       "    </tr>\n",
       "    <tr>\n",
       "      <th>4</th>\n",
       "      <td>2023-01-01</td>\n",
       "      <td>105</td>\n",
       "      <td>Potato</td>\n",
       "      <td>Vegetable</td>\n",
       "      <td>0.25</td>\n",
       "      <td>116</td>\n",
       "    </tr>\n",
       "    <tr>\n",
       "      <th>...</th>\n",
       "      <td>...</td>\n",
       "      <td>...</td>\n",
       "      <td>...</td>\n",
       "      <td>...</td>\n",
       "      <td>...</td>\n",
       "      <td>...</td>\n",
       "    </tr>\n",
       "    <tr>\n",
       "      <th>295</th>\n",
       "      <td>2023-01-30</td>\n",
       "      <td>106</td>\n",
       "      <td>Carrot</td>\n",
       "      <td>Vegetable</td>\n",
       "      <td>0.30</td>\n",
       "      <td>189</td>\n",
       "    </tr>\n",
       "    <tr>\n",
       "      <th>296</th>\n",
       "      <td>2023-01-30</td>\n",
       "      <td>107</td>\n",
       "      <td>Milk</td>\n",
       "      <td>Dairy</td>\n",
       "      <td>1.00</td>\n",
       "      <td>57</td>\n",
       "    </tr>\n",
       "    <tr>\n",
       "      <th>297</th>\n",
       "      <td>2023-01-30</td>\n",
       "      <td>108</td>\n",
       "      <td>Cheese</td>\n",
       "      <td>Dairy</td>\n",
       "      <td>2.50</td>\n",
       "      <td>122</td>\n",
       "    </tr>\n",
       "    <tr>\n",
       "      <th>298</th>\n",
       "      <td>2023-01-30</td>\n",
       "      <td>109</td>\n",
       "      <td>Bread</td>\n",
       "      <td>Bakery</td>\n",
       "      <td>1.20</td>\n",
       "      <td>164</td>\n",
       "    </tr>\n",
       "    <tr>\n",
       "      <th>299</th>\n",
       "      <td>2023-01-30</td>\n",
       "      <td>110</td>\n",
       "      <td>Eggs</td>\n",
       "      <td>Dairy</td>\n",
       "      <td>0.20</td>\n",
       "      <td>189</td>\n",
       "    </tr>\n",
       "  </tbody>\n",
       "</table>\n",
       "<p>300 rows × 6 columns</p>\n",
       "</div>"
      ],
      "text/plain": [
       "           date  product_id product_name   category  price  quantity_sold\n",
       "0    2023-01-01         101        Apple      Fruit   0.50             95\n",
       "1    2023-01-01         102       Banana      Fruit   0.30            161\n",
       "2    2023-01-01         103       Orange      Fruit   0.40            117\n",
       "3    2023-01-01         104       Tomato  Vegetable   0.20            129\n",
       "4    2023-01-01         105       Potato  Vegetable   0.25            116\n",
       "..          ...         ...          ...        ...    ...            ...\n",
       "295  2023-01-30         106       Carrot  Vegetable   0.30            189\n",
       "296  2023-01-30         107         Milk      Dairy   1.00             57\n",
       "297  2023-01-30         108       Cheese      Dairy   2.50            122\n",
       "298  2023-01-30         109        Bread     Bakery   1.20            164\n",
       "299  2023-01-30         110         Eggs      Dairy   0.20            189\n",
       "\n",
       "[300 rows x 6 columns]"
      ]
     },
     "execution_count": 8,
     "metadata": {},
     "output_type": "execute_result"
    }
   ],
   "source": [
    "df = df.dropna()\n",
    "df"
   ]
  },
  {
   "cell_type": "markdown",
   "id": "6dba7db6",
   "metadata": {},
   "source": [
    "# 2.TRANSFORM"
   ]
  },
  {
   "cell_type": "code",
   "execution_count": 9,
   "id": "b08ec43a",
   "metadata": {},
   "outputs": [
    {
     "name": "stdout",
     "output_type": "stream",
     "text": [
      "         date  product_id product_name   category  price  quantity_sold  \\\n",
      "0  2023-01-01         101        Apple      Fruit   0.50             95   \n",
      "1  2023-01-01         102       Banana      Fruit   0.30            161   \n",
      "2  2023-01-01         103       Orange      Fruit   0.40            117   \n",
      "3  2023-01-01         104       Tomato  Vegetable   0.20            129   \n",
      "4  2023-01-01         105       Potato  Vegetable   0.25            116   \n",
      "\n",
      "   total_sales  \n",
      "0         47.5  \n",
      "1         48.3  \n",
      "2         46.8  \n",
      "3         25.8  \n",
      "4         29.0  \n"
     ]
    }
   ],
   "source": [
    "# Creating a new column.\n",
    "df['total_sales'] = df['price'] * df['quantity_sold']\n",
    "\n",
    "print(df.head())"
   ]
  },
  {
   "cell_type": "code",
   "execution_count": 10,
   "id": "398aed97",
   "metadata": {},
   "outputs": [],
   "source": [
    "# Create connection (creates file 'retail_sales.db' in current folder)\n",
    "conn = sqlite3.connect('retail_sales.db')\n",
    "\n",
    "# Write dataframe to SQL table called 'sales'\n",
    "df.to_sql('sales', conn, if_exists='replace', index=False)\n",
    "\n",
    "# Close connection\n",
    "conn.close()"
   ]
  },
  {
   "cell_type": "markdown",
   "id": "82b19d3c",
   "metadata": {},
   "source": [
    "Query and Analyze Data:\n",
    "\n",
    "After storing your cleaned data in the SQLite database, we want to extract insights using SQL queries.\n",
    "\n",
    "🎯 Purpose:\n",
    "\n",
    "Check daily total sales\n",
    "\n",
    "Find which products generate most revenue\n",
    "\n",
    "See which category performs best"
   ]
  },
  {
   "cell_type": "markdown",
   "id": "b8f9851f",
   "metadata": {},
   "source": [
    "## 2.1 Connecting to DataBase and Create cursor :"
   ]
  },
  {
   "cell_type": "code",
   "execution_count": 11,
   "id": "e69c30e7",
   "metadata": {},
   "outputs": [],
   "source": [
    "conn = sqlite3.connect('retail_sales.db')  #We connect to the SQLite database file(retail_sales.db)\n",
    "cursor = conn.cursor()    #create a cursor object, which acts like a pointer to execute SQL commands and fetch data.\n",
    "\n",
    "#No printed output yet. Just establishes connection so we can run SQL."
   ]
  },
  {
   "cell_type": "markdown",
   "id": "eb73f361",
   "metadata": {},
   "source": [
    "### Total Sales per Day :"
   ]
  },
  {
   "cell_type": "code",
   "execution_count": 12,
   "id": "e7078c08",
   "metadata": {},
   "outputs": [
    {
     "name": "stdout",
     "output_type": "stream",
     "text": [
      "('2023-01-01', 697.1999999999999)\n",
      "('2023-01-02', 774.9)\n",
      "('2023-01-03', 1025.75)\n",
      "('2023-01-04', 742.4499999999999)\n",
      "('2023-01-05', 701.9)\n",
      "('2023-01-06', 777.3499999999999)\n",
      "('2023-01-07', 1107.8)\n",
      "('2023-01-08', 634.9000000000001)\n",
      "('2023-01-09', 660.8)\n",
      "('2023-01-10', 874.2)\n",
      "('2023-01-11', 846.5)\n",
      "('2023-01-12', 928.95)\n",
      "('2023-01-13', 798.5)\n",
      "('2023-01-14', 774.75)\n",
      "('2023-01-15', 1077.1999999999998)\n",
      "('2023-01-16', 1093.3)\n",
      "('2023-01-17', 915.45)\n",
      "('2023-01-18', 891.0)\n",
      "('2023-01-19', 797.9499999999999)\n",
      "('2023-01-20', 835.0999999999999)\n",
      "('2023-01-21', 947.35)\n",
      "('2023-01-22', 744.4000000000001)\n",
      "('2023-01-23', 703.8000000000001)\n",
      "('2023-01-24', 934.5)\n",
      "('2023-01-25', 723.15)\n",
      "('2023-01-26', 740.9499999999999)\n",
      "('2023-01-27', 729.75)\n",
      "('2023-01-28', 839.6499999999999)\n",
      "('2023-01-29', 856.8)\n",
      "('2023-01-30', 852.3499999999999)\n"
     ]
    }
   ],
   "source": [
    "query = \"\"\"\n",
    "SELECT date, SUM(total_sales) as daily_sales   \n",
    "FROM sales\n",
    "GROUP BY date\n",
    "ORDER BY date;\n",
    "\"\"\"\n",
    "\n",
    "result = cursor.execute(query).fetchall()\n",
    "for row in result:  # Show first 5 rows\n",
    "    print(row)\n",
    "    \n",
    "#SELECT date, SUM(total_sales) as daily_sales: select each date and calculate total sales value that day.\n",
    "#FROM sales: use our sales table.\n",
    "#GROUP BY date: group rows by each unique date.\n",
    "#ORDER BY date: sort results in ascending order by date.\n",
    "\n",
    "#.fetchall() gets all the rows from the result and returns them as a list of tuples."
   ]
  },
  {
   "cell_type": "markdown",
   "id": "48fde6b9",
   "metadata": {},
   "source": [
    "OUTPUT SUMMARY :\n",
    "\n",
    "First value = date\n",
    "\n",
    "Second value = total sales value (sum of all products sold on that day)"
   ]
  },
  {
   "cell_type": "markdown",
   "id": "d4484159",
   "metadata": {},
   "source": [
    "### Top 5 Products by Revenue :"
   ]
  },
  {
   "cell_type": "code",
   "execution_count": 13,
   "id": "191f0d57",
   "metadata": {},
   "outputs": [
    {
     "name": "stdout",
     "output_type": "stream",
     "text": [
      "('Cheese', 8920.0)\n",
      "('Bread', 4418.4)\n",
      "('Milk', 3601.0)\n",
      "('Apple', 2039.0)\n",
      "('Orange', 1455.2)\n"
     ]
    }
   ],
   "source": [
    "query = \"\"\"\n",
    "SELECT product_name, SUM(total_sales) as revenue\n",
    "FROM sales\n",
    "GROUP BY product_name\n",
    "ORDER BY revenue DESC\n",
    "LIMIT 5;\n",
    "\"\"\"\n",
    "\n",
    "result = cursor.execute(query).fetchall()\n",
    "for row in result:\n",
    "    print(row)\n",
    "    \n",
    "#Limit 5 -- Shows first five results."
   ]
  },
  {
   "cell_type": "markdown",
   "id": "f3ceccaf",
   "metadata": {},
   "source": [
    "OUTPUT SUMMARY :\n",
    "\n",
    "First value = product name\n",
    "\n",
    "Second value = total revenue generated"
   ]
  },
  {
   "cell_type": "markdown",
   "id": "2b51233f",
   "metadata": {},
   "source": [
    "### Category wise sales summary :"
   ]
  },
  {
   "cell_type": "code",
   "execution_count": 14,
   "id": "f74649db",
   "metadata": {},
   "outputs": [
    {
     "name": "stdout",
     "output_type": "stream",
     "text": [
      "('Dairy', 13288.0)\n",
      "('Fruit', 4612.299999999999)\n",
      "('Bakery', 4418.4)\n",
      "('Vegetable', 2709.9500000000003)\n"
     ]
    }
   ],
   "source": [
    "query = \"\"\"\n",
    "SELECT category, SUM(total_sales) as category_sales\n",
    "FROM sales\n",
    "GROUP BY category\n",
    "ORDER BY category_sales DESC;\n",
    "\"\"\"\n",
    "\n",
    "result = cursor.execute(query).fetchall()\n",
    "for row in result:\n",
    "    print(row)\n",
    "    \n",
    "#SELECT category, SUM(total_sales) as category_sales: sum sales per category.\n",
    "#GROUP BY category: group by each unique category (e.g., Fruit, Dairy).\n",
    "#ORDER BY category_sales DESC: sort from highest to lowest sales."
   ]
  },
  {
   "cell_type": "markdown",
   "id": "93dbe0ee",
   "metadata": {},
   "source": [
    "OUTPUT SUMMARY :\n",
    "\n",
    "First value = category name\n",
    "\n",
    "Second value = total sales value for that category"
   ]
  },
  {
   "cell_type": "markdown",
   "id": "472aef87",
   "metadata": {},
   "source": [
    "### Close the Connection :"
   ]
  },
  {
   "cell_type": "code",
   "execution_count": 15,
   "id": "2187306d",
   "metadata": {},
   "outputs": [],
   "source": [
    "conn.close()\n",
    "\n",
    "#Closes your connection to the database.\n",
    "#Frees resources and ensures no data corruption."
   ]
  },
  {
   "cell_type": "markdown",
   "id": "6bf38125",
   "metadata": {},
   "source": [
    "# VISUALIZATION :"
   ]
  },
  {
   "cell_type": "code",
   "execution_count": 16,
   "id": "62324397",
   "metadata": {},
   "outputs": [],
   "source": [
    "import matplotlib.pyplot as plt\n",
    "import seaborn as sns\n",
    "import pandas as pd\n",
    "import sqlite3"
   ]
  },
  {
   "cell_type": "code",
   "execution_count": 17,
   "id": "799dc368",
   "metadata": {},
   "outputs": [],
   "source": [
    "# Reconnect to database\n",
    "conn = sqlite3.connect('retail_sales.db')\n",
    "\n",
    "# Query daily sales\n",
    "query = \"\"\"\n",
    "SELECT date, SUM(total_sales) as daily_sales\n",
    "FROM sales\n",
    "GROUP BY date\n",
    "ORDER BY date;\n",
    "\"\"\""
   ]
  },
  {
   "cell_type": "code",
   "execution_count": 18,
   "id": "9aaadb72",
   "metadata": {},
   "outputs": [
    {
     "data": {
      "image/png": "[encoded data removed]",
      "text/plain": [
       "<Figure size 1200x600 with 1 Axes>"
      ]
     },
     "metadata": {},
     "output_type": "display_data"
    }
   ],
   "source": [
    "df_daily = pd.read_sql_query(query, conn)\n",
    "\n",
    "# Plot\n",
    "plt.figure(figsize=(12,6))\n",
    "sns.lineplot(data=df_daily, x='date', y='daily_sales', marker='o')\n",
    "plt.title('Daily Sales Trend')\n",
    "plt.xticks(rotation=45)\n",
    "plt.ylabel('Total Sales($)')\n",
    "plt.xlabel('Date')\n",
    "plt.show()"
   ]
  },
  {
   "cell_type": "code",
   "execution_count": 19,
   "id": "abcc8487",
   "metadata": {},
   "outputs": [
    {
     "data": {
      "image/png": "[encoded data removed]",
      "text/plain": [
       "<Figure size 800x600 with 1 Axes>"
      ]
     },
     "metadata": {},
     "output_type": "display_data"
    }
   ],
   "source": [
    "# Query top products\n",
    "query = \"\"\"\n",
    "SELECT product_name, SUM(total_sales) as revenue\n",
    "FROM sales\n",
    "GROUP BY product_name\n",
    "ORDER BY revenue DESC\n",
    "LIMIT 5;\n",
    "\"\"\"\n",
    "\n",
    "df_top_products = pd.read_sql_query(query, conn)\n",
    "\n",
    "# Plot\n",
    "plt.figure(figsize=(8,6))\n",
    "sns.barplot(data=df_top_products, x='revenue', y='product_name', palette='viridis')\n",
    "plt.title('Top 5 Products by Revenue')\n",
    "plt.xlabel('Revenue ($)')\n",
    "plt.ylabel('Product')\n",
    "plt.show()"
   ]
  },
  {
   "cell_type": "code",
   "execution_count": 20,
   "id": "5c8d2959",
   "metadata": {},
   "outputs": [
    {
     "data": {
      "image/png": "[encoded data removed]",
      "text/plain": [
       "<Figure size 800x800 with 1 Axes>"
      ]
     },
     "metadata": {},
     "output_type": "display_data"
    }
   ],
   "source": [
    "# Query category-wise sales\n",
    "query = \"\"\"\n",
    "SELECT category, SUM(total_sales) as category_sales\n",
    "FROM sales\n",
    "GROUP BY category\n",
    "ORDER BY category_sales DESC;\n",
    "\"\"\"\n",
    "\n",
    "df_category = pd.read_sql_query(query, conn)\n",
    "\n",
    "# Plot\n",
    "plt.figure(figsize=(8,8))\n",
    "plt.pie(df_category['category_sales'], labels=df_category['category'], autopct='%2.2f%%', startangle=90)\n",
    "plt.title('Sales by Category')\n",
    "plt.show()"
   ]
  },
  {
   "cell_type": "markdown",
   "id": "736ceb7b",
   "metadata": {},
   "source": [
    "## Export analysis results to new CSV files"
   ]
  },
  {
   "cell_type": "code",
   "execution_count": 21,
   "id": "9ec44e03",
   "metadata": {},
   "outputs": [],
   "source": [
    "# Save daily sales\n",
    "df_daily.to_csv('daily_sales_summary.csv', index=False)\n",
    "\n",
    "# Save top products\n",
    "df_top_products.to_csv('top_products_summary.csv', index=False)\n",
    "\n",
    "# Save category sales\n",
    "df_category.to_csv('category_sales_summary.csv', index=False)"
   ]
  },
  {
   "cell_type": "markdown",
   "id": "fb75f9d7",
   "metadata": {},
   "source": [
    "## Close the connection :"
   ]
  },
  {
   "cell_type": "code",
   "execution_count": 22,
   "id": "8dd331c1",
   "metadata": {},
   "outputs": [],
   "source": [
    "conn.close()"
   ]
  },
  {
   "cell_type": "markdown",
   "id": "28000b20",
   "metadata": {},
   "source": [
    "# FINAL PROJECT SUMMARY :\n",
    "\n",
    "| Step  | Task                          | Output                    |\n",
    "| ----- | ----------------------------- | ------------------------- |\n",
    "| 1–4   | Create/load, clean, and store | Data in SQLite DB         |\n",
    "| 5     | Query and analyze             | Printed SQL query results |\n",
    "| 6     | Visualize                     | Line, bar, pie charts     |\n",
    "| 7     | Export                        | 3 CSV summary files       |\n",
    "| 8     | Close DB connection           | Cleanup                   |\n"
   ]
  },
  {
   "cell_type": "code",
   "execution_count": null,
   "id": "e9ca264b",
   "metadata": {},
   "outputs": [],
   "source": []
  }
 ],
 "metadata": {
  "kernelspec": {
   "display_name": "Python 3 (ipykernel)",
   "language": "python",
   "name": "python3"
  },
  "language_info": {
   "codemirror_mode": {
    "name": "ipython",
    "version": 3
   },
   "file_extension": ".py",
   "mimetype": "text/x-python",
   "name": "python",
   "nbconvert_exporter": "python",
   "pygments_lexer": "ipython3",
   "version": "3.11.5"
  }
 },
 "nbformat": 4,
 "nbformat_minor": 5
}
